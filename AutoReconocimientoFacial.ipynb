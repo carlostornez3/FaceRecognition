{
  "nbformat": 4,
  "nbformat_minor": 0,
  "metadata": {
    "colab": {
      "provenance": [],
      "gpuType": "T4"
    },
    "kernelspec": {
      "name": "python3",
      "display_name": "Python 3"
    },
    "language_info": {
      "name": "python"
    },
    "accelerator": "GPU",
    "widgets": {
      "application/vnd.jupyter.widget-state+json": {
        "e9afdde844224a8c822ec16f96ce22ed": {
          "model_module": "@jupyter-widgets/controls",
          "model_name": "VBoxModel",
          "model_module_version": "1.5.0",
          "state": {
            "_dom_classes": [],
            "_model_module": "@jupyter-widgets/controls",
            "_model_module_version": "1.5.0",
            "_model_name": "VBoxModel",
            "_view_count": null,
            "_view_module": "@jupyter-widgets/controls",
            "_view_module_version": "1.5.0",
            "_view_name": "VBoxView",
            "box_style": "",
            "children": [
              "IPY_MODEL_3f3c918ee5b246839d82a4d0aa808e3b",
              "IPY_MODEL_7d7ad8c8eee44ec09475ce4545b74d6d"
            ],
            "layout": "IPY_MODEL_d427372a438843b5ab1db9dbc4ec535d"
          }
        },
        "3f3c918ee5b246839d82a4d0aa808e3b": {
          "model_module": "@jupyter-widgets/controls",
          "model_name": "LabelModel",
          "model_module_version": "1.5.0",
          "state": {
            "_dom_classes": [],
            "_model_module": "@jupyter-widgets/controls",
            "_model_module_version": "1.5.0",
            "_model_name": "LabelModel",
            "_view_count": null,
            "_view_module": "@jupyter-widgets/controls",
            "_view_module_version": "1.5.0",
            "_view_name": "LabelView",
            "description": "",
            "description_tooltip": null,
            "layout": "IPY_MODEL_f85db0bb363c4173a03cb2ae617a4a66",
            "placeholder": "​",
            "style": "IPY_MODEL_0980e8cfeacb438ea440ad87ac6db247",
            "value": "0.127 MB of 0.127 MB uploaded (0.009 MB deduped)\r"
          }
        },
        "7d7ad8c8eee44ec09475ce4545b74d6d": {
          "model_module": "@jupyter-widgets/controls",
          "model_name": "FloatProgressModel",
          "model_module_version": "1.5.0",
          "state": {
            "_dom_classes": [],
            "_model_module": "@jupyter-widgets/controls",
            "_model_module_version": "1.5.0",
            "_model_name": "FloatProgressModel",
            "_view_count": null,
            "_view_module": "@jupyter-widgets/controls",
            "_view_module_version": "1.5.0",
            "_view_name": "ProgressView",
            "bar_style": "",
            "description": "",
            "description_tooltip": null,
            "layout": "IPY_MODEL_a6a9555d86ef4be39d40b3bfdff38b8e",
            "max": 1,
            "min": 0,
            "orientation": "horizontal",
            "style": "IPY_MODEL_caf7e5e8cd034b5d95d58f84bdb49055",
            "value": 1
          }
        },
        "d427372a438843b5ab1db9dbc4ec535d": {
          "model_module": "@jupyter-widgets/base",
          "model_name": "LayoutModel",
          "model_module_version": "1.2.0",
          "state": {
            "_model_module": "@jupyter-widgets/base",
            "_model_module_version": "1.2.0",
            "_model_name": "LayoutModel",
            "_view_count": null,
            "_view_module": "@jupyter-widgets/base",
            "_view_module_version": "1.2.0",
            "_view_name": "LayoutView",
            "align_content": null,
            "align_items": null,
            "align_self": null,
            "border": null,
            "bottom": null,
            "display": null,
            "flex": null,
            "flex_flow": null,
            "grid_area": null,
            "grid_auto_columns": null,
            "grid_auto_flow": null,
            "grid_auto_rows": null,
            "grid_column": null,
            "grid_gap": null,
            "grid_row": null,
            "grid_template_areas": null,
            "grid_template_columns": null,
            "grid_template_rows": null,
            "height": null,
            "justify_content": null,
            "justify_items": null,
            "left": null,
            "margin": null,
            "max_height": null,
            "max_width": null,
            "min_height": null,
            "min_width": null,
            "object_fit": null,
            "object_position": null,
            "order": null,
            "overflow": null,
            "overflow_x": null,
            "overflow_y": null,
            "padding": null,
            "right": null,
            "top": null,
            "visibility": null,
            "width": null
          }
        },
        "f85db0bb363c4173a03cb2ae617a4a66": {
          "model_module": "@jupyter-widgets/base",
          "model_name": "LayoutModel",
          "model_module_version": "1.2.0",
          "state": {
            "_model_module": "@jupyter-widgets/base",
            "_model_module_version": "1.2.0",
            "_model_name": "LayoutModel",
            "_view_count": null,
            "_view_module": "@jupyter-widgets/base",
            "_view_module_version": "1.2.0",
            "_view_name": "LayoutView",
            "align_content": null,
            "align_items": null,
            "align_self": null,
            "border": null,
            "bottom": null,
            "display": null,
            "flex": null,
            "flex_flow": null,
            "grid_area": null,
            "grid_auto_columns": null,
            "grid_auto_flow": null,
            "grid_auto_rows": null,
            "grid_column": null,
            "grid_gap": null,
            "grid_row": null,
            "grid_template_areas": null,
            "grid_template_columns": null,
            "grid_template_rows": null,
            "height": null,
            "justify_content": null,
            "justify_items": null,
            "left": null,
            "margin": null,
            "max_height": null,
            "max_width": null,
            "min_height": null,
            "min_width": null,
            "object_fit": null,
            "object_position": null,
            "order": null,
            "overflow": null,
            "overflow_x": null,
            "overflow_y": null,
            "padding": null,
            "right": null,
            "top": null,
            "visibility": null,
            "width": null
          }
        },
        "0980e8cfeacb438ea440ad87ac6db247": {
          "model_module": "@jupyter-widgets/controls",
          "model_name": "DescriptionStyleModel",
          "model_module_version": "1.5.0",
          "state": {
            "_model_module": "@jupyter-widgets/controls",
            "_model_module_version": "1.5.0",
            "_model_name": "DescriptionStyleModel",
            "_view_count": null,
            "_view_module": "@jupyter-widgets/base",
            "_view_module_version": "1.2.0",
            "_view_name": "StyleView",
            "description_width": ""
          }
        },
        "a6a9555d86ef4be39d40b3bfdff38b8e": {
          "model_module": "@jupyter-widgets/base",
          "model_name": "LayoutModel",
          "model_module_version": "1.2.0",
          "state": {
            "_model_module": "@jupyter-widgets/base",
            "_model_module_version": "1.2.0",
            "_model_name": "LayoutModel",
            "_view_count": null,
            "_view_module": "@jupyter-widgets/base",
            "_view_module_version": "1.2.0",
            "_view_name": "LayoutView",
            "align_content": null,
            "align_items": null,
            "align_self": null,
            "border": null,
            "bottom": null,
            "display": null,
            "flex": null,
            "flex_flow": null,
            "grid_area": null,
            "grid_auto_columns": null,
            "grid_auto_flow": null,
            "grid_auto_rows": null,
            "grid_column": null,
            "grid_gap": null,
            "grid_row": null,
            "grid_template_areas": null,
            "grid_template_columns": null,
            "grid_template_rows": null,
            "height": null,
            "justify_content": null,
            "justify_items": null,
            "left": null,
            "margin": null,
            "max_height": null,
            "max_width": null,
            "min_height": null,
            "min_width": null,
            "object_fit": null,
            "object_position": null,
            "order": null,
            "overflow": null,
            "overflow_x": null,
            "overflow_y": null,
            "padding": null,
            "right": null,
            "top": null,
            "visibility": null,
            "width": null
          }
        },
        "caf7e5e8cd034b5d95d58f84bdb49055": {
          "model_module": "@jupyter-widgets/controls",
          "model_name": "ProgressStyleModel",
          "model_module_version": "1.5.0",
          "state": {
            "_model_module": "@jupyter-widgets/controls",
            "_model_module_version": "1.5.0",
            "_model_name": "ProgressStyleModel",
            "_view_count": null,
            "_view_module": "@jupyter-widgets/base",
            "_view_module_version": "1.2.0",
            "_view_name": "StyleView",
            "bar_color": null,
            "description_width": ""
          }
        }
      }
    }
  },
  "cells": [
    {
      "cell_type": "code",
      "execution_count": null,
      "metadata": {
        "id": "MCCmdc_XfSoI",
        "colab": {
          "base_uri": "https://localhost:8080/"
        },
        "outputId": "17418f0a-b007-46f4-9c73-233c4f32cbf6"
      },
      "outputs": [
        {
          "output_type": "stream",
          "name": "stdout",
          "text": [
            "Collecting wandb\n",
            "  Downloading wandb-0.16.6-py3-none-any.whl (2.2 MB)\n",
            "\u001b[2K     \u001b[90m━━━━━━━━━━━━━━━━━━━━━━━━━━━━━━━━━━━━━━━━\u001b[0m \u001b[32m2.2/2.2 MB\u001b[0m \u001b[31m6.2 MB/s\u001b[0m eta \u001b[36m0:00:00\u001b[0m\n",
            "\u001b[?25hRequirement already satisfied: Click!=8.0.0,>=7.1 in /usr/local/lib/python3.10/dist-packages (from wandb) (8.1.7)\n",
            "Collecting GitPython!=3.1.29,>=1.0.0 (from wandb)\n",
            "  Downloading GitPython-3.1.43-py3-none-any.whl (207 kB)\n",
            "\u001b[2K     \u001b[90m━━━━━━━━━━━━━━━━━━━━━━━━━━━━━━━━━━━━━━━━\u001b[0m \u001b[32m207.3/207.3 kB\u001b[0m \u001b[31m4.9 MB/s\u001b[0m eta \u001b[36m0:00:00\u001b[0m\n",
            "\u001b[?25hRequirement already satisfied: requests<3,>=2.0.0 in /usr/local/lib/python3.10/dist-packages (from wandb) (2.31.0)\n",
            "Requirement already satisfied: psutil>=5.0.0 in /usr/local/lib/python3.10/dist-packages (from wandb) (5.9.5)\n",
            "Collecting sentry-sdk>=1.0.0 (from wandb)\n",
            "  Downloading sentry_sdk-1.45.0-py2.py3-none-any.whl (267 kB)\n",
            "\u001b[2K     \u001b[90m━━━━━━━━━━━━━━━━━━━━━━━━━━━━━━━━━━━━━━━━\u001b[0m \u001b[32m267.1/267.1 kB\u001b[0m \u001b[31m8.9 MB/s\u001b[0m eta \u001b[36m0:00:00\u001b[0m\n",
            "\u001b[?25hCollecting docker-pycreds>=0.4.0 (from wandb)\n",
            "  Downloading docker_pycreds-0.4.0-py2.py3-none-any.whl (9.0 kB)\n",
            "Requirement already satisfied: PyYAML in /usr/local/lib/python3.10/dist-packages (from wandb) (6.0.1)\n",
            "Collecting setproctitle (from wandb)\n",
            "  Downloading setproctitle-1.3.3-cp310-cp310-manylinux_2_5_x86_64.manylinux1_x86_64.manylinux_2_17_x86_64.manylinux2014_x86_64.whl (30 kB)\n",
            "Requirement already satisfied: setuptools in /usr/local/lib/python3.10/dist-packages (from wandb) (67.7.2)\n",
            "Requirement already satisfied: appdirs>=1.4.3 in /usr/local/lib/python3.10/dist-packages (from wandb) (1.4.4)\n",
            "Requirement already satisfied: protobuf!=4.21.0,<5,>=3.19.0 in /usr/local/lib/python3.10/dist-packages (from wandb) (3.20.3)\n",
            "Requirement already satisfied: six>=1.4.0 in /usr/local/lib/python3.10/dist-packages (from docker-pycreds>=0.4.0->wandb) (1.16.0)\n",
            "Collecting gitdb<5,>=4.0.1 (from GitPython!=3.1.29,>=1.0.0->wandb)\n",
            "  Downloading gitdb-4.0.11-py3-none-any.whl (62 kB)\n",
            "\u001b[2K     \u001b[90m━━━━━━━━━━━━━━━━━━━━━━━━━━━━━━━━━━━━━━━━\u001b[0m \u001b[32m62.7/62.7 kB\u001b[0m \u001b[31m5.4 MB/s\u001b[0m eta \u001b[36m0:00:00\u001b[0m\n",
            "\u001b[?25hRequirement already satisfied: charset-normalizer<4,>=2 in /usr/local/lib/python3.10/dist-packages (from requests<3,>=2.0.0->wandb) (3.3.2)\n",
            "Requirement already satisfied: idna<4,>=2.5 in /usr/local/lib/python3.10/dist-packages (from requests<3,>=2.0.0->wandb) (3.7)\n",
            "Requirement already satisfied: urllib3<3,>=1.21.1 in /usr/local/lib/python3.10/dist-packages (from requests<3,>=2.0.0->wandb) (2.0.7)\n",
            "Requirement already satisfied: certifi>=2017.4.17 in /usr/local/lib/python3.10/dist-packages (from requests<3,>=2.0.0->wandb) (2024.2.2)\n",
            "Collecting smmap<6,>=3.0.1 (from gitdb<5,>=4.0.1->GitPython!=3.1.29,>=1.0.0->wandb)\n",
            "  Downloading smmap-5.0.1-py3-none-any.whl (24 kB)\n",
            "Installing collected packages: smmap, setproctitle, sentry-sdk, docker-pycreds, gitdb, GitPython, wandb\n",
            "Successfully installed GitPython-3.1.43 docker-pycreds-0.4.0 gitdb-4.0.11 sentry-sdk-1.45.0 setproctitle-1.3.3 smmap-5.0.1 wandb-0.16.6\n"
          ]
        }
      ],
      "source": [
        "!pip install wandb\n",
        "\n",
        "import os\n",
        "from glob import glob\n",
        "import numpy as np\n",
        "import zipfile\n",
        "import tensorflow as tf\n",
        "from tensorflow import keras\n",
        "from tensorflow.keras.models import Sequential\n",
        "from tensorflow.keras.layers import Dense,Conv2D, Dropout,Activation,MaxPooling2D,Flatten, BatchNormalization, Input\n",
        "from tensorflow.keras.optimizers import RMSprop, SGD, Adam\n",
        "from tensorflow.keras import regularizers\n",
        "from tensorflow.keras.preprocessing.image import ImageDataGenerator\n",
        "from tensorflow.keras.callbacks import ModelCheckpoint\n",
        "from tensorflow.keras.preprocessing import image\n",
        "from keras.losses import categorical_crossentropy\n",
        "from keras.callbacks import EarlyStopping\n",
        "import pandas as pd\n",
        "from wandb.keras import WandbMetricsLogger, WandbModelCheckpoint\n",
        "import random\n",
        "from keras import regularizers\n",
        "from keras.layers import MaxPooling2D, Input\n",
        "from tensorflow.keras.losses import MeanSquaredError\n",
        "from sklearn.model_selection import train_test_split\n",
        "from PIL import Image\n",
        "import wandb\n",
        "from wandb.keras import WandbCallback"
      ]
    },
    {
      "cell_type": "code",
      "source": [
        "from keras.models import load_model"
      ],
      "metadata": {
        "id": "XF-RRAYIfXtv"
      },
      "execution_count": null,
      "outputs": []
    },
    {
      "cell_type": "code",
      "source": [
        "base_model = load_model(\"m1.keras\")\n",
        "\n",
        "\n",
        "for i, layer in enumerate(base_model.layers):\n",
        "   print(i, layer.name)\n"
      ],
      "metadata": {
        "colab": {
          "base_uri": "https://localhost:8080/"
        },
        "id": "-Sq49byHffSG",
        "outputId": "37f6ac97-2402-490b-b290-c3e4659a6de4"
      },
      "execution_count": null,
      "outputs": [
        {
          "output_type": "stream",
          "name": "stdout",
          "text": [
            "0 input_1\n",
            "1 conv2d\n",
            "2 conv2d_1\n",
            "3 max_pooling2d\n",
            "4 conv2d_2\n",
            "5 conv2d_3\n",
            "6 max_pooling2d_1\n",
            "7 conv2d_4\n",
            "8 conv2d_5\n",
            "9 max_pooling2d_2\n",
            "10 batch_normalization\n",
            "11 separable_conv2d\n",
            "12 batch_normalization_1\n",
            "13 activation\n",
            "14 separable_conv2d_1\n",
            "15 max_pooling2d_3\n",
            "16 batch_normalization_2\n",
            "17 separable_conv2d_2\n",
            "18 batch_normalization_3\n",
            "19 activation_1\n",
            "20 separable_conv2d_3\n",
            "21 max_pooling2d_4\n",
            "22 flatten\n",
            "23 dense\n",
            "24 batch_normalization_4\n",
            "25 dense_1\n",
            "26 batch_normalization_5\n",
            "27 dense_2\n"
          ]
        }
      ]
    },
    {
      "cell_type": "code",
      "source": [
        "base_model.summary()"
      ],
      "metadata": {
        "colab": {
          "base_uri": "https://localhost:8080/"
        },
        "id": "6kQWvDo0guQ4",
        "outputId": "8dc9ea4c-1603-4cc3-9c5a-ea3235c5e4f5"
      },
      "execution_count": null,
      "outputs": [
        {
          "output_type": "stream",
          "name": "stdout",
          "text": [
            "Model: \"model\"\n",
            "_________________________________________________________________\n",
            " Layer (type)                Output Shape              Param #   \n",
            "=================================================================\n",
            " input_1 (InputLayer)        [(None, 80, 80, 1)]       0         \n",
            "                                                                 \n",
            " conv2d (Conv2D)             (None, 80, 80, 128)       1280      \n",
            "                                                                 \n",
            " conv2d_1 (Conv2D)           (None, 80, 80, 256)       295168    \n",
            "                                                                 \n",
            " max_pooling2d (MaxPooling2  (None, 40, 40, 256)       0         \n",
            " D)                                                              \n",
            "                                                                 \n",
            " conv2d_2 (Conv2D)           (None, 40, 40, 64)        147520    \n",
            "                                                                 \n",
            " conv2d_3 (Conv2D)           (None, 40, 40, 128)       73856     \n",
            "                                                                 \n",
            " max_pooling2d_1 (MaxPoolin  (None, 20, 20, 128)       0         \n",
            " g2D)                                                            \n",
            "                                                                 \n",
            " conv2d_4 (Conv2D)           (None, 20, 20, 32)        36896     \n",
            "                                                                 \n",
            " conv2d_5 (Conv2D)           (None, 20, 20, 64)        18496     \n",
            "                                                                 \n",
            " max_pooling2d_2 (MaxPoolin  (None, 10, 10, 64)        0         \n",
            " g2D)                                                            \n",
            "                                                                 \n",
            " batch_normalization (Batch  (None, 10, 10, 64)        256       \n",
            " Normalization)                                                  \n",
            "                                                                 \n",
            " separable_conv2d (Separabl  (None, 10, 10, 32)        2656      \n",
            " eConv2D)                                                        \n",
            "                                                                 \n",
            " batch_normalization_1 (Bat  (None, 10, 10, 32)        128       \n",
            " chNormalization)                                                \n",
            "                                                                 \n",
            " activation (Activation)     (None, 10, 10, 32)        0         \n",
            "                                                                 \n",
            " separable_conv2d_1 (Separa  (None, 10, 10, 32)        1344      \n",
            " bleConv2D)                                                      \n",
            "                                                                 \n",
            " max_pooling2d_3 (MaxPoolin  (None, 5, 5, 32)          0         \n",
            " g2D)                                                            \n",
            "                                                                 \n",
            " batch_normalization_2 (Bat  (None, 5, 5, 32)          128       \n",
            " chNormalization)                                                \n",
            "                                                                 \n",
            " separable_conv2d_2 (Separa  (None, 5, 5, 64)          2400      \n",
            " bleConv2D)                                                      \n",
            "                                                                 \n",
            " batch_normalization_3 (Bat  (None, 5, 5, 64)          256       \n",
            " chNormalization)                                                \n",
            "                                                                 \n",
            " activation_1 (Activation)   (None, 5, 5, 64)          0         \n",
            "                                                                 \n",
            " separable_conv2d_3 (Separa  (None, 5, 5, 64)          4736      \n",
            " bleConv2D)                                                      \n",
            "                                                                 \n",
            " max_pooling2d_4 (MaxPoolin  (None, 3, 3, 64)          0         \n",
            " g2D)                                                            \n",
            "                                                                 \n",
            " flatten (Flatten)           (None, 576)               0         \n",
            "                                                                 \n",
            " dense (Dense)               (None, 100)               57700     \n",
            "                                                                 \n",
            " batch_normalization_4 (Bat  (None, 100)               400       \n",
            " chNormalization)                                                \n",
            "                                                                 \n",
            " dense_1 (Dense)             (None, 50)                5050      \n",
            "                                                                 \n",
            " batch_normalization_5 (Bat  (None, 50)                200       \n",
            " chNormalization)                                                \n",
            "                                                                 \n",
            " dense_2 (Dense)             (None, 7)                 357       \n",
            "                                                                 \n",
            "=================================================================\n",
            "Total params: 648827 (2.48 MB)\n",
            "Trainable params: 648143 (2.47 MB)\n",
            "Non-trainable params: 684 (2.67 KB)\n",
            "_________________________________________________________________\n"
          ]
        }
      ]
    },
    {
      "cell_type": "code",
      "source": [
        "from tensorflow.keras import layers\n",
        "x = base_model.layers[22].output\n",
        "\n",
        "x = layers.Flatten(name=\"f1\")(x)\n",
        "x = layers.Dense(300, activation='relu',kernel_regularizer=regularizers.L1L2(l1=1e-3, l2=1e-3))(x)\n",
        "x = layers.BatchNormalization(name=\"b1\")(x)\n",
        "x = layers.Dropout(0.5)(x)\n",
        "\n",
        "x = layers.Dense(200, activation='relu',kernel_regularizer=regularizers.L1L2(l1=1e-3, l2=1e-3))(x)\n",
        "x = layers.BatchNormalization(name=\"b2\")(x)\n",
        "x = layers.Dropout(0.5)(x)\n",
        "\n",
        "\n",
        "x = layers.Dense(100, activation='relu',kernel_regularizer=regularizers.L1L2(l1=1e-3, l2=1e-3))(x)\n",
        "x = layers.BatchNormalization(name=\"b3\")(x)\n",
        "x = layers.Dropout(0.5)(x)\n",
        "\n",
        "x = layers.Dense(20, activation='relu',kernel_regularizer=regularizers.L1L2(l1=1e-3, l2=1e-3))(x)\n",
        "x = layers.BatchNormalization(name=\"b4\")(x)\n",
        "x = layers.Dropout(0.1)(x)\n",
        "outputs = layers.Dense(1, activation=\"softmax\",kernel_regularizer=regularizers.L1L2(l1=1e-3, l2=1e-3) )(x)\n",
        "model1 = keras.Model(inputs=base_model.input, outputs=outputs)\n",
        "\n",
        "\n",
        "for layer in model1.layers[:22]:\n",
        "  layer.trainable = False\n",
        "model1.summary()\n"
      ],
      "metadata": {
        "colab": {
          "base_uri": "https://localhost:8080/"
        },
        "id": "P05q4mrzipNA",
        "outputId": "8c1156c0-a8e5-410b-9d49-1c28aa5bf15b"
      },
      "execution_count": null,
      "outputs": [
        {
          "output_type": "stream",
          "name": "stdout",
          "text": [
            "Model: \"model_2\"\n",
            "_________________________________________________________________\n",
            " Layer (type)                Output Shape              Param #   \n",
            "=================================================================\n",
            " input_1 (InputLayer)        [(None, 80, 80, 1)]       0         \n",
            "                                                                 \n",
            " conv2d (Conv2D)             (None, 80, 80, 128)       1280      \n",
            "                                                                 \n",
            " conv2d_1 (Conv2D)           (None, 80, 80, 256)       295168    \n",
            "                                                                 \n",
            " max_pooling2d (MaxPooling2  (None, 40, 40, 256)       0         \n",
            " D)                                                              \n",
            "                                                                 \n",
            " conv2d_2 (Conv2D)           (None, 40, 40, 64)        147520    \n",
            "                                                                 \n",
            " conv2d_3 (Conv2D)           (None, 40, 40, 128)       73856     \n",
            "                                                                 \n",
            " max_pooling2d_1 (MaxPoolin  (None, 20, 20, 128)       0         \n",
            " g2D)                                                            \n",
            "                                                                 \n",
            " conv2d_4 (Conv2D)           (None, 20, 20, 32)        36896     \n",
            "                                                                 \n",
            " conv2d_5 (Conv2D)           (None, 20, 20, 64)        18496     \n",
            "                                                                 \n",
            " max_pooling2d_2 (MaxPoolin  (None, 10, 10, 64)        0         \n",
            " g2D)                                                            \n",
            "                                                                 \n",
            " batch_normalization (Batch  (None, 10, 10, 64)        256       \n",
            " Normalization)                                                  \n",
            "                                                                 \n",
            " separable_conv2d (Separabl  (None, 10, 10, 32)        2656      \n",
            " eConv2D)                                                        \n",
            "                                                                 \n",
            " batch_normalization_1 (Bat  (None, 10, 10, 32)        128       \n",
            " chNormalization)                                                \n",
            "                                                                 \n",
            " activation (Activation)     (None, 10, 10, 32)        0         \n",
            "                                                                 \n",
            " separable_conv2d_1 (Separa  (None, 10, 10, 32)        1344      \n",
            " bleConv2D)                                                      \n",
            "                                                                 \n",
            " max_pooling2d_3 (MaxPoolin  (None, 5, 5, 32)          0         \n",
            " g2D)                                                            \n",
            "                                                                 \n",
            " batch_normalization_2 (Bat  (None, 5, 5, 32)          128       \n",
            " chNormalization)                                                \n",
            "                                                                 \n",
            " separable_conv2d_2 (Separa  (None, 5, 5, 64)          2400      \n",
            " bleConv2D)                                                      \n",
            "                                                                 \n",
            " batch_normalization_3 (Bat  (None, 5, 5, 64)          256       \n",
            " chNormalization)                                                \n",
            "                                                                 \n",
            " activation_1 (Activation)   (None, 5, 5, 64)          0         \n",
            "                                                                 \n",
            " separable_conv2d_3 (Separa  (None, 5, 5, 64)          4736      \n",
            " bleConv2D)                                                      \n",
            "                                                                 \n",
            " max_pooling2d_4 (MaxPoolin  (None, 3, 3, 64)          0         \n",
            " g2D)                                                            \n",
            "                                                                 \n",
            " flatten (Flatten)           (None, 576)               0         \n",
            "                                                                 \n",
            " f1 (Flatten)                (None, 576)               0         \n",
            "                                                                 \n",
            " dense_10 (Dense)            (None, 300)               173100    \n",
            "                                                                 \n",
            " b1 (BatchNormalization)     (None, 300)               1200      \n",
            "                                                                 \n",
            " dropout_8 (Dropout)         (None, 300)               0         \n",
            "                                                                 \n",
            " dense_11 (Dense)            (None, 200)               60200     \n",
            "                                                                 \n",
            " b2 (BatchNormalization)     (None, 200)               800       \n",
            "                                                                 \n",
            " dropout_9 (Dropout)         (None, 200)               0         \n",
            "                                                                 \n",
            " dense_12 (Dense)            (None, 100)               20100     \n",
            "                                                                 \n",
            " b3 (BatchNormalization)     (None, 100)               400       \n",
            "                                                                 \n",
            " dropout_10 (Dropout)        (None, 100)               0         \n",
            "                                                                 \n",
            " dense_13 (Dense)            (None, 20)                2020      \n",
            "                                                                 \n",
            " b4 (BatchNormalization)     (None, 20)                80        \n",
            "                                                                 \n",
            " dropout_11 (Dropout)        (None, 20)                0         \n",
            "                                                                 \n",
            " dense_14 (Dense)            (None, 1)                 21        \n",
            "                                                                 \n",
            "=================================================================\n",
            "Total params: 843041 (3.22 MB)\n",
            "Trainable params: 256681 (1002.66 KB)\n",
            "Non-trainable params: 586360 (2.24 MB)\n",
            "_________________________________________________________________\n"
          ]
        }
      ]
    },
    {
      "cell_type": "code",
      "source": [
        "!wget http://s3-us-west-1.amazonaws.com/udacity-dlnfd/datasets/celeba.zip\n",
        "with zipfile.ZipFile(\"celeba.zip\",\"r\") as zip_ref:\n",
        "  zip_ref.extractall(\"data_faces/\")"
      ],
      "metadata": {
        "colab": {
          "base_uri": "https://localhost:8080/"
        },
        "id": "v4deJiXWu7Yn",
        "outputId": "97249b9f-2338-41f1-8d46-6125af27c989"
      },
      "execution_count": null,
      "outputs": [
        {
          "output_type": "stream",
          "name": "stdout",
          "text": [
            "--2024-04-20 04:18:01--  http://s3-us-west-1.amazonaws.com/udacity-dlnfd/datasets/celeba.zip\n",
            "Resolving s3-us-west-1.amazonaws.com (s3-us-west-1.amazonaws.com)... 52.219.193.112, 52.219.121.104, 52.219.113.120, ...\n",
            "Connecting to s3-us-west-1.amazonaws.com (s3-us-west-1.amazonaws.com)|52.219.193.112|:80... connected.\n",
            "HTTP request sent, awaiting response... 200 OK\n",
            "Length: 1443490838 (1.3G) [application/zip]\n",
            "Saving to: ‘celeba.zip’\n",
            "\n",
            "celeba.zip          100%[===================>]   1.34G  80.8MB/s    in 20s     \n",
            "\n",
            "2024-04-20 04:18:21 (69.4 MB/s) - ‘celeba.zip’ saved [1443490838/1443490838]\n",
            "\n"
          ]
        }
      ]
    },
    {
      "cell_type": "code",
      "source": [
        "with zipfile.ZipFile(\"myimg.zip\",\"r\") as zip_ref:\n",
        "  zip_ref.extractall(\"myface/\")"
      ],
      "metadata": {
        "id": "Hid5HMRpvDlb"
      },
      "execution_count": null,
      "outputs": []
    },
    {
      "cell_type": "code",
      "source": [
        "import tensorflow as tf\n",
        "\n",
        "import pathlib\n",
        "import os\n",
        "import matplotlib.pyplot as plt\n",
        "import pandas as pd\n",
        "import numpy as np\n",
        "path_to_images = 'data_faces/img_align_celeba/'\n",
        "\n",
        "\n",
        "df = pd.read_csv(\"list.csv\")\n",
        "\n",
        "n_images=1600\n",
        "from_image = 50001\n",
        "to_image= from_image+n_images\n",
        "files = [path_to_images+fileName for fileName in df.iloc[from_image:to_image, 0]]\n",
        "files = tf.data.Dataset.from_tensor_slices(files)\n",
        "attributes1 = tf.data.Dataset.from_tensor_slices(np.zeros((n_images,1)))\n",
        "data1 = tf.data.Dataset.zip((files, attributes1))\n",
        "print(data1)\n",
        "\n",
        "path = 'myface/myimg'\n",
        "myFiles = glob(os.path.join(path, '*'))\n",
        "n_files = len(myFiles)\n",
        "#myFiles = [os.path.basename(filename) for filename in myFiles]\n",
        "myFiles = tf.data.Dataset.from_tensor_slices(myFiles[:])\n",
        "attributes2 = tf.data.Dataset.from_tensor_slices(np.ones((n_files,1)))\n",
        "data2 = tf.data.Dataset.zip((myFiles,attributes2))\n",
        "data = data1.concatenate(data2)\n",
        "data = data.shuffle(data.cardinality())\n",
        "size_image = 80\n",
        "def process_file(file_name, attributes):\n",
        "    image = tf.io.read_file(file_name)\n",
        "    image = tf.image.decode_jpeg(image, channels=1)\n",
        "    image = tf.image.resize(image, [size_image, size_image])\n",
        "    image /= 255.0  #\n",
        "    return image, attributes\n",
        "\n",
        "labeled_images = data.map(process_file,num_parallel_calls=tf.data.AUTOTUNE).batch(50).prefetch(tf.data.AUTOTUNE)\n",
        "\n",
        "dataset = labeled_images\n",
        "total_size = len(labeled_images)\n",
        "print(len(labeled_images))\n",
        "print(len(dataset))\n",
        "\n",
        "train_size = int(0.8 * total_size)\n",
        "validation_size = total_size - train_size\n",
        "\n",
        "\n",
        "train = dataset.take(train_size)\n",
        "val = dataset.skip(train_size)\n"
      ],
      "metadata": {
        "colab": {
          "base_uri": "https://localhost:8080/"
        },
        "id": "AdIAAa84njlQ",
        "outputId": "065ffa9e-d9bd-4a1a-c7fe-d1858533a837"
      },
      "execution_count": null,
      "outputs": [
        {
          "output_type": "stream",
          "name": "stdout",
          "text": [
            "<_ZipDataset element_spec=(TensorSpec(shape=(), dtype=tf.string, name=None), TensorSpec(shape=(1,), dtype=tf.float64, name=None))>\n",
            "66\n",
            "66\n"
          ]
        }
      ]
    },
    {
      "cell_type": "code",
      "source": [
        "wandb.login()"
      ],
      "metadata": {
        "colab": {
          "base_uri": "https://localhost:8080/",
          "height": 121
        },
        "id": "yNLR1khuxTm1",
        "outputId": "f2e14609-1e70-44db-ca32-c5f8901167ad"
      },
      "execution_count": null,
      "outputs": [
        {
          "data": {
            "application/javascript": [
              "\n",
              "        window._wandbApiKey = new Promise((resolve, reject) => {\n",
              "            function loadScript(url) {\n",
              "            return new Promise(function(resolve, reject) {\n",
              "                let newScript = document.createElement(\"script\");\n",
              "                newScript.onerror = reject;\n",
              "                newScript.onload = resolve;\n",
              "                document.body.appendChild(newScript);\n",
              "                newScript.src = url;\n",
              "            });\n",
              "            }\n",
              "            loadScript(\"https://cdn.jsdelivr.net/npm/postmate/build/postmate.min.js\").then(() => {\n",
              "            const iframe = document.createElement('iframe')\n",
              "            iframe.style.cssText = \"width:0;height:0;border:none\"\n",
              "            document.body.appendChild(iframe)\n",
              "            const handshake = new Postmate({\n",
              "                container: iframe,\n",
              "                url: 'https://wandb.ai/authorize'\n",
              "            });\n",
              "            const timeout = setTimeout(() => reject(\"Couldn't auto authenticate\"), 5000)\n",
              "            handshake.then(function(child) {\n",
              "                child.on('authorize', data => {\n",
              "                    clearTimeout(timeout)\n",
              "                    resolve(data)\n",
              "                });\n",
              "            });\n",
              "            })\n",
              "        });\n",
              "    "
            ],
            "text/plain": [
              "<IPython.core.display.Javascript object>"
            ]
          },
          "metadata": {},
          "output_type": "display_data"
        },
        {
          "metadata": {
            "tags": null
          },
          "name": "stderr",
          "output_type": "stream",
          "text": [
            "\u001b[34m\u001b[1mwandb\u001b[0m: Logging into wandb.ai. (Learn how to deploy a W&B server locally: https://wandb.me/wandb-server)\n",
            "\u001b[34m\u001b[1mwandb\u001b[0m: You can find your API key in your browser here: https://wandb.ai/authorize\n",
            "wandb: Paste an API key from your profile and hit enter, or press ctrl+c to quit:"
          ]
        },
        {
          "name": "stdout",
          "output_type": "stream",
          "text": [
            " ··········\n"
          ]
        },
        {
          "output_type": "stream",
          "name": "stderr",
          "text": [
            "\u001b[34m\u001b[1mwandb\u001b[0m: Appending key for api.wandb.ai to your netrc file: /root/.netrc\n"
          ]
        },
        {
          "output_type": "execute_result",
          "data": {
            "text/plain": [
              "True"
            ]
          },
          "metadata": {},
          "execution_count": 17
        }
      ]
    },
    {
      "cell_type": "code",
      "source": [
        "wandb.init(project=\"ReconocimientoFacial\",\n",
        "          config={\"Learning_rate\":0.00005,\n",
        "                 \"epochs\":50,\n",
        "                 \"batch_size\":50,\n",
        "                 \"loss_function\":\"binary_crossentropy\",\n",
        "                 \"optimizer\":\"Adam\",\n",
        "                  \"ConvType\":\"Block, Sep\"\n",
        "                 })\n",
        "config = wandb.config\n",
        "run = wandb.run\n",
        "\n",
        "model1.compile(loss=\"binary_crossentropy\",optimizer=Adam(learning_rate=0.00005),metrics=['accuracy'])\n",
        "model1.fit(train,epochs=50,verbose=1,validation_data=val, callbacks=[WandbMetricsLogger()])\n",
        "\n",
        "run.finish()"
      ],
      "metadata": {
        "colab": {
          "base_uri": "https://localhost:8080/",
          "height": 1000,
          "referenced_widgets": [
            "e9afdde844224a8c822ec16f96ce22ed",
            "3f3c918ee5b246839d82a4d0aa808e3b",
            "7d7ad8c8eee44ec09475ce4545b74d6d",
            "d427372a438843b5ab1db9dbc4ec535d",
            "f85db0bb363c4173a03cb2ae617a4a66",
            "0980e8cfeacb438ea440ad87ac6db247",
            "a6a9555d86ef4be39d40b3bfdff38b8e",
            "caf7e5e8cd034b5d95d58f84bdb49055"
          ]
        },
        "id": "lexL5tlbvrmN",
        "outputId": "3be9dc7b-a763-4610-b4f6-06185ab2153c"
      },
      "execution_count": null,
      "outputs": [
        {
          "output_type": "display_data",
          "data": {
            "text/plain": [
              "<IPython.core.display.HTML object>"
            ],
            "text/html": [
              "Tracking run with wandb version 0.16.6"
            ]
          },
          "metadata": {}
        },
        {
          "output_type": "display_data",
          "data": {
            "text/plain": [
              "<IPython.core.display.HTML object>"
            ],
            "text/html": [
              "Run data is saved locally in <code>/content/wandb/run-20240420_050618-egh6fgvr</code>"
            ]
          },
          "metadata": {}
        },
        {
          "output_type": "display_data",
          "data": {
            "text/plain": [
              "<IPython.core.display.HTML object>"
            ],
            "text/html": [
              "Syncing run <strong><a href='https://wandb.ai/carlostornez3/ReconocimientoFacial/runs/egh6fgvr' target=\"_blank\">sparkling-surf-51</a></strong> to <a href='https://wandb.ai/carlostornez3/ReconocimientoFacial' target=\"_blank\">Weights & Biases</a> (<a href='https://wandb.me/run' target=\"_blank\">docs</a>)<br/>"
            ]
          },
          "metadata": {}
        },
        {
          "output_type": "display_data",
          "data": {
            "text/plain": [
              "<IPython.core.display.HTML object>"
            ],
            "text/html": [
              " View project at <a href='https://wandb.ai/carlostornez3/ReconocimientoFacial' target=\"_blank\">https://wandb.ai/carlostornez3/ReconocimientoFacial</a>"
            ]
          },
          "metadata": {}
        },
        {
          "output_type": "display_data",
          "data": {
            "text/plain": [
              "<IPython.core.display.HTML object>"
            ],
            "text/html": [
              " View run at <a href='https://wandb.ai/carlostornez3/ReconocimientoFacial/runs/egh6fgvr' target=\"_blank\">https://wandb.ai/carlostornez3/ReconocimientoFacial/runs/egh6fgvr</a>"
            ]
          },
          "metadata": {}
        },
        {
          "output_type": "stream",
          "name": "stdout",
          "text": [
            "Epoch 1/50\n",
            " 6/52 [==>...........................] - ETA: 5s - loss: 5.8713 - accuracy: 0.4700"
          ]
        },
        {
          "output_type": "stream",
          "name": "stderr",
          "text": [
            "WARNING:tensorflow:Callback method `on_train_batch_end` is slow compared to the batch time (batch time: 0.0530s vs `on_train_batch_end` time: 0.0606s). Check your callbacks.\n"
          ]
        },
        {
          "output_type": "stream",
          "name": "stdout",
          "text": [
            "52/52 [==============================] - 26s 192ms/step - loss: 5.7655 - accuracy: 0.5192 - val_loss: 5.7546 - val_accuracy: 0.5332\n",
            "Epoch 2/50\n",
            "52/52 [==============================] - 10s 200ms/step - loss: 5.5705 - accuracy: 0.5115 - val_loss: 5.5056 - val_accuracy: 0.5246\n",
            "Epoch 3/50\n",
            "52/52 [==============================] - 9s 175ms/step - loss: 5.4095 - accuracy: 0.5135 - val_loss: 5.4551 - val_accuracy: 0.5217\n",
            "Epoch 4/50\n",
            "52/52 [==============================] - 9s 177ms/step - loss: 5.2520 - accuracy: 0.5081 - val_loss: 5.1546 - val_accuracy: 0.5549\n",
            "Epoch 5/50\n",
            "52/52 [==============================] - 9s 181ms/step - loss: 5.0767 - accuracy: 0.5131 - val_loss: 5.0195 - val_accuracy: 0.5000\n",
            "Epoch 6/50\n",
            "52/52 [==============================] - 12s 228ms/step - loss: 4.9194 - accuracy: 0.5158 - val_loss: 4.8539 - val_accuracy: 0.5087\n",
            "Epoch 7/50\n",
            "52/52 [==============================] - 9s 177ms/step - loss: 4.7676 - accuracy: 0.5208 - val_loss: 4.6951 - val_accuracy: 0.5275\n",
            "Epoch 8/50\n",
            "52/52 [==============================] - 9s 175ms/step - loss: 4.6107 - accuracy: 0.5135 - val_loss: 6.2367 - val_accuracy: 0.4942\n",
            "Epoch 9/50\n",
            "52/52 [==============================] - 11s 205ms/step - loss: 4.4574 - accuracy: 0.5223 - val_loss: 4.9918 - val_accuracy: 0.5318\n",
            "Epoch 10/50\n",
            "52/52 [==============================] - 10s 201ms/step - loss: 4.3163 - accuracy: 0.5042 - val_loss: 4.2520 - val_accuracy: 0.5159\n",
            "Epoch 11/50\n",
            "52/52 [==============================] - 10s 191ms/step - loss: 4.1876 - accuracy: 0.5115 - val_loss: 4.1629 - val_accuracy: 0.5014\n",
            "Epoch 12/50\n",
            "52/52 [==============================] - 9s 179ms/step - loss: 4.0516 - accuracy: 0.5100 - val_loss: 4.0842 - val_accuracy: 0.5260\n",
            "Epoch 13/50\n",
            "52/52 [==============================] - 10s 184ms/step - loss: 3.9118 - accuracy: 0.5177 - val_loss: 3.8341 - val_accuracy: 0.5303\n",
            "Epoch 14/50\n",
            "52/52 [==============================] - 12s 228ms/step - loss: 3.7877 - accuracy: 0.5069 - val_loss: 3.7153 - val_accuracy: 0.5145\n",
            "Epoch 15/50\n",
            "52/52 [==============================] - 9s 178ms/step - loss: 3.6579 - accuracy: 0.5062 - val_loss: 3.5841 - val_accuracy: 0.4957\n",
            "Epoch 16/50\n",
            "52/52 [==============================] - 9s 176ms/step - loss: 3.5382 - accuracy: 0.5142 - val_loss: 3.4772 - val_accuracy: 0.4928\n",
            "Epoch 17/50\n",
            "52/52 [==============================] - 9s 180ms/step - loss: 3.4187 - accuracy: 0.5142 - val_loss: 3.3731 - val_accuracy: 0.4827\n",
            "Epoch 18/50\n",
            "52/52 [==============================] - 10s 201ms/step - loss: 3.3106 - accuracy: 0.5158 - val_loss: 3.4205 - val_accuracy: 0.5188\n",
            "Epoch 19/50\n",
            "52/52 [==============================] - 9s 174ms/step - loss: 3.1954 - accuracy: 0.5177 - val_loss: 3.2009 - val_accuracy: 0.5318\n",
            "Epoch 20/50\n",
            "52/52 [==============================] - 10s 183ms/step - loss: 3.0887 - accuracy: 0.5192 - val_loss: 3.0364 - val_accuracy: 0.5260\n",
            "Epoch 21/50\n",
            "52/52 [==============================] - 10s 191ms/step - loss: 2.9776 - accuracy: 0.5177 - val_loss: 2.9186 - val_accuracy: 0.5275\n",
            "Epoch 22/50\n",
            "52/52 [==============================] - 9s 182ms/step - loss: 2.8772 - accuracy: 0.5142 - val_loss: 2.8208 - val_accuracy: 0.5159\n",
            "Epoch 23/50\n",
            "52/52 [==============================] - 9s 176ms/step - loss: 2.7833 - accuracy: 0.5104 - val_loss: 2.7343 - val_accuracy: 0.5043\n",
            "Epoch 24/50\n",
            "52/52 [==============================] - 12s 237ms/step - loss: 2.7130 - accuracy: 0.5169 - val_loss: 2.8012 - val_accuracy: 0.4928\n",
            "Epoch 25/50\n",
            "52/52 [==============================] - 12s 228ms/step - loss: 2.6090 - accuracy: 0.5131 - val_loss: 2.5842 - val_accuracy: 0.5217\n",
            "Epoch 26/50\n",
            "52/52 [==============================] - 9s 181ms/step - loss: 2.5209 - accuracy: 0.5100 - val_loss: 2.5261 - val_accuracy: 0.5087\n",
            "Epoch 27/50\n",
            "52/52 [==============================] - 10s 200ms/step - loss: 2.4400 - accuracy: 0.5185 - val_loss: 3.2438 - val_accuracy: 0.5361\n",
            "Epoch 28/50\n",
            "52/52 [==============================] - 9s 175ms/step - loss: 2.3636 - accuracy: 0.5119 - val_loss: 2.4577 - val_accuracy: 0.4841\n",
            "Epoch 29/50\n",
            "52/52 [==============================] - 10s 186ms/step - loss: 2.2955 - accuracy: 0.5185 - val_loss: 3.8295 - val_accuracy: 0.5058\n",
            "Epoch 30/50\n",
            "52/52 [==============================] - 10s 189ms/step - loss: 2.2145 - accuracy: 0.5150 - val_loss: 2.1641 - val_accuracy: 0.5029\n",
            "Epoch 31/50\n",
            "52/52 [==============================] - 12s 227ms/step - loss: 2.1457 - accuracy: 0.5150 - val_loss: 2.1147 - val_accuracy: 0.5101\n",
            "Epoch 32/50\n",
            "52/52 [==============================] - 9s 172ms/step - loss: 2.0894 - accuracy: 0.5173 - val_loss: 2.0345 - val_accuracy: 0.5145\n",
            "Epoch 33/50\n",
            "52/52 [==============================] - 9s 181ms/step - loss: 2.0169 - accuracy: 0.5150 - val_loss: 1.9790 - val_accuracy: 0.5130\n",
            "Epoch 34/50\n",
            "52/52 [==============================] - 10s 190ms/step - loss: 1.9525 - accuracy: 0.5100 - val_loss: 4.4260 - val_accuracy: 0.5072\n",
            "Epoch 35/50\n",
            "52/52 [==============================] - 9s 177ms/step - loss: 1.8849 - accuracy: 0.5165 - val_loss: 1.8930 - val_accuracy: 0.5000\n",
            "Epoch 36/50\n",
            "52/52 [==============================] - 9s 175ms/step - loss: 1.8394 - accuracy: 0.5154 - val_loss: 1.8061 - val_accuracy: 0.5217\n",
            "Epoch 37/50\n",
            "52/52 [==============================] - 9s 181ms/step - loss: 1.7744 - accuracy: 0.5123 - val_loss: 1.7401 - val_accuracy: 0.5087\n",
            "Epoch 38/50\n",
            "52/52 [==============================] - 11s 220ms/step - loss: 1.7260 - accuracy: 0.5058 - val_loss: 1.6836 - val_accuracy: 0.5072\n",
            "Epoch 39/50\n",
            "52/52 [==============================] - 9s 172ms/step - loss: 1.6638 - accuracy: 0.5142 - val_loss: 1.6344 - val_accuracy: 0.5231\n",
            "Epoch 40/50\n",
            "52/52 [==============================] - 13s 243ms/step - loss: 1.6168 - accuracy: 0.5100 - val_loss: 1.5888 - val_accuracy: 0.5101\n",
            "Epoch 41/50\n",
            "52/52 [==============================] - 10s 191ms/step - loss: 1.5607 - accuracy: 0.5154 - val_loss: 1.5367 - val_accuracy: 0.5188\n",
            "Epoch 42/50\n",
            "52/52 [==============================] - 9s 176ms/step - loss: 1.5206 - accuracy: 0.5169 - val_loss: 1.5185 - val_accuracy: 0.5347\n",
            "Epoch 43/50\n",
            "52/52 [==============================] - 9s 181ms/step - loss: 1.4727 - accuracy: 0.5165 - val_loss: 1.5636 - val_accuracy: 0.4986\n",
            "Epoch 44/50\n",
            "52/52 [==============================] - 10s 189ms/step - loss: 1.4265 - accuracy: 0.5231 - val_loss: 1.4126 - val_accuracy: 0.5361\n",
            "Epoch 45/50\n",
            "52/52 [==============================] - 10s 187ms/step - loss: 1.3768 - accuracy: 0.5177 - val_loss: 1.4569 - val_accuracy: 0.5072\n",
            "Epoch 46/50\n",
            "52/52 [==============================] - 9s 177ms/step - loss: 1.3366 - accuracy: 0.5142 - val_loss: 1.3241 - val_accuracy: 0.5260\n",
            "Epoch 47/50\n",
            "52/52 [==============================] - 9s 183ms/step - loss: 1.3040 - accuracy: 0.5188 - val_loss: 1.3581 - val_accuracy: 0.5130\n",
            "Epoch 48/50\n",
            "52/52 [==============================] - 10s 198ms/step - loss: 1.2598 - accuracy: 0.5169 - val_loss: 2.1262 - val_accuracy: 0.5101\n",
            "Epoch 49/50\n",
            "52/52 [==============================] - 10s 186ms/step - loss: 1.2211 - accuracy: 0.5138 - val_loss: 1.1944 - val_accuracy: 0.5434\n",
            "Epoch 50/50\n",
            "52/52 [==============================] - 10s 190ms/step - loss: 1.1838 - accuracy: 0.5027 - val_loss: 1.1769 - val_accuracy: 0.5072\n"
          ]
        },
        {
          "output_type": "display_data",
          "data": {
            "text/plain": [
              "VBox(children=(Label(value='0.073 MB of 0.073 MB uploaded\\r'), FloatProgress(value=1.0, max=1.0)))"
            ],
            "application/vnd.jupyter.widget-view+json": {
              "version_major": 2,
              "version_minor": 0,
              "model_id": "e9afdde844224a8c822ec16f96ce22ed"
            }
          },
          "metadata": {}
        },
        {
          "output_type": "display_data",
          "data": {
            "text/plain": [
              "<IPython.core.display.HTML object>"
            ],
            "text/html": [
              "W&B sync reduced upload amount by 6.9%             "
            ]
          },
          "metadata": {}
        },
        {
          "output_type": "display_data",
          "data": {
            "text/plain": [
              "<IPython.core.display.HTML object>"
            ],
            "text/html": [
              "<style>\n",
              "    table.wandb td:nth-child(1) { padding: 0 10px; text-align: left ; width: auto;} td:nth-child(2) {text-align: left ; width: 100%}\n",
              "    .wandb-row { display: flex; flex-direction: row; flex-wrap: wrap; justify-content: flex-start; width: 100% }\n",
              "    .wandb-col { display: flex; flex-direction: column; flex-basis: 100%; flex: 1; padding: 10px; }\n",
              "    </style>\n",
              "<div class=\"wandb-row\"><div class=\"wandb-col\"><h3>Run history:</h3><br/><table class=\"wandb\"><tr><td>epoch/accuracy</td><td>▇▄▅▃▅▇▅█▄▄▆▂▅▅▅▆▆▅▄▆▄▆▄▆▅▆▅▄▅▄▂▅▅▆▆█▅▇▆▁</td></tr><tr><td>epoch/epoch</td><td>▁▁▁▁▂▂▂▂▂▃▃▃▃▃▃▄▄▄▄▄▅▅▅▅▅▅▆▆▆▆▆▆▇▇▇▇▇███</td></tr><tr><td>epoch/learning_rate</td><td>▁▁▁▁▁▁▁▁▁▁▁▁▁▁▁▁▁▁▁▁▁▁▁▁▁▁▁▁▁▁▁▁▁▁▁▁▁▁▁▁</td></tr><tr><td>epoch/loss</td><td>██▇▇▇▆▆▆▆▅▅▅▅▄▄▄▄▄▃▃▃▃▃▃▂▂▂▂▂▂▂▂▂▂▁▁▁▁▁▁</td></tr><tr><td>epoch/val_accuracy</td><td>▆▅▅█▄▅▂▆▃▅▆▄▂▁▅▆▅▄▃▂▄▆▁▃▄▄▄▃▅▄▃▅▅▆▃▆▅▄▄▃</td></tr><tr><td>epoch/val_loss</td><td>▇▇▇▇▆▆█▆▅▅▅▅▄▄▄▄▃▃▃▃▃▄▃▅▂▂▂▅▂▂▂▂▁▁▂▁▁▁▂▁</td></tr></table><br/></div><div class=\"wandb-col\"><h3>Run summary:</h3><br/><table class=\"wandb\"><tr><td>epoch/accuracy</td><td>0.50269</td></tr><tr><td>epoch/epoch</td><td>49</td></tr><tr><td>epoch/learning_rate</td><td>5e-05</td></tr><tr><td>epoch/loss</td><td>1.18376</td></tr><tr><td>epoch/val_accuracy</td><td>0.50723</td></tr><tr><td>epoch/val_loss</td><td>1.17693</td></tr></table><br/></div></div>"
            ]
          },
          "metadata": {}
        },
        {
          "output_type": "display_data",
          "data": {
            "text/plain": [
              "<IPython.core.display.HTML object>"
            ],
            "text/html": [
              " View run <strong style=\"color:#cdcd00\">sparkling-surf-51</strong> at: <a href='https://wandb.ai/carlostornez3/ReconocimientoFacial/runs/egh6fgvr' target=\"_blank\">https://wandb.ai/carlostornez3/ReconocimientoFacial/runs/egh6fgvr</a><br/> View project at: <a href='https://wandb.ai/carlostornez3/ReconocimientoFacial' target=\"_blank\">https://wandb.ai/carlostornez3/ReconocimientoFacial</a><br/>Synced 5 W&B file(s), 0 media file(s), 4 artifact file(s) and 1 other file(s)"
            ]
          },
          "metadata": {}
        },
        {
          "output_type": "display_data",
          "data": {
            "text/plain": [
              "<IPython.core.display.HTML object>"
            ],
            "text/html": [
              "Find logs at: <code>./wandb/run-20240420_050618-egh6fgvr/logs</code>"
            ]
          },
          "metadata": {}
        }
      ]
    },
    {
      "cell_type": "code",
      "source": [
        "for layer in model1.layers[:22]:\n",
        "  layer.trainable = True\n",
        "model1.summary()"
      ],
      "metadata": {
        "id": "ePg9RKxPv_qu",
        "colab": {
          "base_uri": "https://localhost:8080/"
        },
        "outputId": "ab8c6554-6b8a-4764-db6c-d02d9b35e664"
      },
      "execution_count": null,
      "outputs": [
        {
          "output_type": "stream",
          "name": "stdout",
          "text": [
            "Model: \"model_2\"\n",
            "_________________________________________________________________\n",
            " Layer (type)                Output Shape              Param #   \n",
            "=================================================================\n",
            " input_1 (InputLayer)        [(None, 80, 80, 1)]       0         \n",
            "                                                                 \n",
            " conv2d (Conv2D)             (None, 80, 80, 128)       1280      \n",
            "                                                                 \n",
            " conv2d_1 (Conv2D)           (None, 80, 80, 256)       295168    \n",
            "                                                                 \n",
            " max_pooling2d (MaxPooling2  (None, 40, 40, 256)       0         \n",
            " D)                                                              \n",
            "                                                                 \n",
            " conv2d_2 (Conv2D)           (None, 40, 40, 64)        147520    \n",
            "                                                                 \n",
            " conv2d_3 (Conv2D)           (None, 40, 40, 128)       73856     \n",
            "                                                                 \n",
            " max_pooling2d_1 (MaxPoolin  (None, 20, 20, 128)       0         \n",
            " g2D)                                                            \n",
            "                                                                 \n",
            " conv2d_4 (Conv2D)           (None, 20, 20, 32)        36896     \n",
            "                                                                 \n",
            " conv2d_5 (Conv2D)           (None, 20, 20, 64)        18496     \n",
            "                                                                 \n",
            " max_pooling2d_2 (MaxPoolin  (None, 10, 10, 64)        0         \n",
            " g2D)                                                            \n",
            "                                                                 \n",
            " batch_normalization (Batch  (None, 10, 10, 64)        256       \n",
            " Normalization)                                                  \n",
            "                                                                 \n",
            " separable_conv2d (Separabl  (None, 10, 10, 32)        2656      \n",
            " eConv2D)                                                        \n",
            "                                                                 \n",
            " batch_normalization_1 (Bat  (None, 10, 10, 32)        128       \n",
            " chNormalization)                                                \n",
            "                                                                 \n",
            " activation (Activation)     (None, 10, 10, 32)        0         \n",
            "                                                                 \n",
            " separable_conv2d_1 (Separa  (None, 10, 10, 32)        1344      \n",
            " bleConv2D)                                                      \n",
            "                                                                 \n",
            " max_pooling2d_3 (MaxPoolin  (None, 5, 5, 32)          0         \n",
            " g2D)                                                            \n",
            "                                                                 \n",
            " batch_normalization_2 (Bat  (None, 5, 5, 32)          128       \n",
            " chNormalization)                                                \n",
            "                                                                 \n",
            " separable_conv2d_2 (Separa  (None, 5, 5, 64)          2400      \n",
            " bleConv2D)                                                      \n",
            "                                                                 \n",
            " batch_normalization_3 (Bat  (None, 5, 5, 64)          256       \n",
            " chNormalization)                                                \n",
            "                                                                 \n",
            " activation_1 (Activation)   (None, 5, 5, 64)          0         \n",
            "                                                                 \n",
            " separable_conv2d_3 (Separa  (None, 5, 5, 64)          4736      \n",
            " bleConv2D)                                                      \n",
            "                                                                 \n",
            " max_pooling2d_4 (MaxPoolin  (None, 3, 3, 64)          0         \n",
            " g2D)                                                            \n",
            "                                                                 \n",
            " flatten (Flatten)           (None, 576)               0         \n",
            "                                                                 \n",
            " f1 (Flatten)                (None, 576)               0         \n",
            "                                                                 \n",
            " dense_10 (Dense)            (None, 300)               173100    \n",
            "                                                                 \n",
            " b1 (BatchNormalization)     (None, 300)               1200      \n",
            "                                                                 \n",
            " dropout_8 (Dropout)         (None, 300)               0         \n",
            "                                                                 \n",
            " dense_11 (Dense)            (None, 200)               60200     \n",
            "                                                                 \n",
            " b2 (BatchNormalization)     (None, 200)               800       \n",
            "                                                                 \n",
            " dropout_9 (Dropout)         (None, 200)               0         \n",
            "                                                                 \n",
            " dense_12 (Dense)            (None, 100)               20100     \n",
            "                                                                 \n",
            " b3 (BatchNormalization)     (None, 100)               400       \n",
            "                                                                 \n",
            " dropout_10 (Dropout)        (None, 100)               0         \n",
            "                                                                 \n",
            " dense_13 (Dense)            (None, 20)                2020      \n",
            "                                                                 \n",
            " b4 (BatchNormalization)     (None, 20)                80        \n",
            "                                                                 \n",
            " dropout_11 (Dropout)        (None, 20)                0         \n",
            "                                                                 \n",
            " dense_14 (Dense)            (None, 1)                 21        \n",
            "                                                                 \n",
            "=================================================================\n",
            "Total params: 843041 (3.22 MB)\n",
            "Trainable params: 841417 (3.21 MB)\n",
            "Non-trainable params: 1624 (6.34 KB)\n",
            "_________________________________________________________________\n"
          ]
        }
      ]
    },
    {
      "cell_type": "code",
      "source": [],
      "metadata": {
        "id": "ndugT2X8oAX_"
      },
      "execution_count": null,
      "outputs": []
    }
  ]
}